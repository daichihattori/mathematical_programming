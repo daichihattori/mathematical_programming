{
 "cells": [
  {
   "cell_type": "markdown",
   "metadata": {},
   "source": [
    "最小勾配法の勉強\n",
    "まずmatplotlibで曲線を描いてみる"
   ]
  },
  {
   "cell_type": "code",
   "execution_count": 8,
   "metadata": {},
   "outputs": [
    {
     "data": {
      "image/png": "[encoded data removed]",
      "text/plain": [
       "<Figure size 432x288 with 1 Axes>"
      ]
     },
     "metadata": {
      "needs_background": "light"
     },
     "output_type": "display_data"
    }
   ],
   "source": [
    "import matplotlib.pyplot as plt\n",
    "import numpy as np\n",
    "p = np.linspace( -4, 3, 70)   # linspace(min, max, N) で範囲 min から max を N 分割します\n",
    "q = p**5+p**4-10*p**3+2*p-8\n",
    "plt.plot(p, q)\n",
    "plt.show()"
   ]
  },
  {
   "cell_type": "markdown",
   "metadata": {},
   "source": [
    "この曲線の最大値を最小勾配法で求めてみる．\n",
    "\n",
    "最小勾配法の流れ\n",
    "\n",
    "関数$f(x)$に対して\n",
    "1. 初期地点$x$を決める\n",
    "2. ある$x$の傾きを求める，\n",
    "3. 新たに探索する$x'$を傾きと学習率$n$を用いて求める．\n",
    "\n",
    "$$x' = x - n\\frac{\\partial f}{\\partial x}$$\n",
    "\n",
    "4. 傾きが0となる$x$を見つけるまで2~3を繰り返す．\n"
   ]
  },
  {
   "cell_type": "code",
   "execution_count": null,
   "metadata": {},
   "outputs": [],
   "source": []
  },
  {
   "cell_type": "code",
   "execution_count": 20,
   "metadata": {},
   "outputs": [
    {
     "name": "stdout",
     "output_type": "stream",
     "text": [
      "1.3440923939753113\n",
      "1.6881847879506227\n",
      "2.032277181925934\n"
     ]
    },
    {
     "ename": "ValueError",
     "evalue": "too many values to unpack (expected 2)",
     "output_type": "error",
     "traceback": [
      "\u001b[0;31m---------------------------------------------------------------------------\u001b[0m",
      "\u001b[0;31mValueError\u001b[0m                                Traceback (most recent call last)",
      "\u001b[1;32m/home/daichi/workplace/mathematical_programming/mynote.ipynb Cell 5'\u001b[0m in \u001b[0;36m<cell line: 24>\u001b[0;34m()\u001b[0m\n\u001b[1;32m     <a href='vscode-notebook-cell://wsl%2Bubuntu-20.04/home/daichi/workplace/mathematical_programming/mynote.ipynb#ch0000007vscode-remote?line=21'>22</a>\u001b[0m q \u001b[39m=\u001b[39m p\u001b[39m*\u001b[39m\u001b[39m*\u001b[39m\u001b[39m2\u001b[39m\n\u001b[1;32m     <a href='vscode-notebook-cell://wsl%2Bubuntu-20.04/home/daichi/workplace/mathematical_programming/mynote.ipynb#ch0000007vscode-remote?line=22'>23</a>\u001b[0m a,b \u001b[39m=\u001b[39m np\u001b[39m.\u001b[39mpolyfit(q,p,\u001b[39m1\u001b[39m)\n\u001b[0;32m---> <a href='vscode-notebook-cell://wsl%2Bubuntu-20.04/home/daichi/workplace/mathematical_programming/mynote.ipynb#ch0000007vscode-remote?line=23'>24</a>\u001b[0m gd_loop(q,p)\n",
      "\u001b[1;32m/home/daichi/workplace/mathematical_programming/mynote.ipynb Cell 5'\u001b[0m in \u001b[0;36mgd_loop\u001b[0;34m(y, x)\u001b[0m\n\u001b[1;32m     <a href='vscode-notebook-cell://wsl%2Bubuntu-20.04/home/daichi/workplace/mathematical_programming/mynote.ipynb#ch0000007vscode-remote?line=9'>10</a>\u001b[0m n \u001b[39m=\u001b[39m \u001b[39m1.5\u001b[39m\n\u001b[1;32m     <a href='vscode-notebook-cell://wsl%2Bubuntu-20.04/home/daichi/workplace/mathematical_programming/mynote.ipynb#ch0000007vscode-remote?line=10'>11</a>\u001b[0m \u001b[39mfor\u001b[39;00m i \u001b[39min\u001b[39;00m \u001b[39mrange\u001b[39m(\u001b[39m100\u001b[39m):\n\u001b[0;32m---> <a href='vscode-notebook-cell://wsl%2Bubuntu-20.04/home/daichi/workplace/mathematical_programming/mynote.ipynb#ch0000007vscode-remote?line=11'>12</a>\u001b[0m     a,b \u001b[39m=\u001b[39m np\u001b[39m.\u001b[39mpolyfit(y,x,x0)\n\u001b[1;32m     <a href='vscode-notebook-cell://wsl%2Bubuntu-20.04/home/daichi/workplace/mathematical_programming/mynote.ipynb#ch0000007vscode-remote?line=12'>13</a>\u001b[0m     \u001b[39mif\u001b[39;00m a \u001b[39m==\u001b[39m \u001b[39m0\u001b[39m:\n\u001b[1;32m     <a href='vscode-notebook-cell://wsl%2Bubuntu-20.04/home/daichi/workplace/mathematical_programming/mynote.ipynb#ch0000007vscode-remote?line=13'>14</a>\u001b[0m         \u001b[39mbreak\u001b[39;00m\n",
      "\u001b[0;31mValueError\u001b[0m: too many values to unpack (expected 2)"
     ]
    }
   ],
   "source": [
    "import matplotlib.pyplot as plt\n",
    "import numpy as np\n",
    "\n",
    "def gd(y,x):\n",
    "    x0 = 1\n",
    "    n = 1.5\n",
    "    for i in range(100):\n",
    "        a,b = np.polyfit(y,x,x0)\n",
    "        if a == 0:\n",
    "            break\n",
    "\n",
    "        x0 = x0 - n * a\n",
    "        print(x0)\n",
    "\n",
    "\n",
    "\n",
    "p = np.linspace( -4, 3, 70)   # linspace(min, max, N) で範囲 min から max を N 分割します\n",
    "q = p**2\n",
    "a,b = np.polyfit(q,p,1)\n",
    "gd(q,p)\n",
    "\n"
   ]
  }
 ],
 "metadata": {
  "interpreter": {
   "hash": "31f2aee4e71d21fbe5cf8b01ff0e069b9275f58929596ceb00d14d90e3e16cd6"
  },
  "kernelspec": {
   "display_name": "Python 3.8.10 64-bit",
   "language": "python",
   "name": "python3"
  },
  "language_info": {
   "codemirror_mode": {
    "name": "ipython",
    "version": 3
   },
   "file_extension": ".py",
   "mimetype": "text/x-python",
   "name": "python",
   "nbconvert_exporter": "python",
   "pygments_lexer": "ipython3",
   "version": "3.8.10"
  },
  "orig_nbformat": 4
 },
 "nbformat": 4,
 "nbformat_minor": 2
}
